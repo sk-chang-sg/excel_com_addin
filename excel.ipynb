{
 "cells": [
  {
   "cell_type": "code",
   "execution_count": 7,
   "metadata": {},
   "outputs": [],
   "source": [
    "import win32com.client as win32\n",
    "import pythoncom"
   ]
  },
  {
   "cell_type": "code",
   "execution_count": 1,
   "metadata": {},
   "outputs": [
    {
     "ename": "NameError",
     "evalue": "name 'win32' is not defined",
     "output_type": "error",
     "traceback": [
      "\u001b[1;31m---------------------------------------------------------------------------\u001b[0m",
      "\u001b[1;31mNameError\u001b[0m                                 Traceback (most recent call last)",
      "Cell \u001b[1;32mIn[1], line 1\u001b[0m\n\u001b[1;32m----> 1\u001b[0m xl \u001b[38;5;241m=\u001b[39m \u001b[43mwin32\u001b[49m\u001b[38;5;241m.\u001b[39mgencache\u001b[38;5;241m.\u001b[39mEnsureDispatch(\u001b[38;5;124m\"\u001b[39m\u001b[38;5;124mExcel.Application\u001b[39m\u001b[38;5;124m\"\u001b[39m, pythoncom\u001b[38;5;241m.\u001b[39mCoInitialize())\n",
      "\u001b[1;31mNameError\u001b[0m: name 'win32' is not defined"
     ]
    }
   ],
   "source": [
    "xl = win32.gencache.EnsureDispatch(\"Excel.Application\", pythoncom.CoInitialize())"
   ]
  },
  {
   "cell_type": "code",
   "execution_count": 15,
   "metadata": {},
   "outputs": [
    {
     "name": "stdout",
     "output_type": "stream",
     "text": [
      "['ActivateMicrosoftApp', 'ActiveCell', 'ActiveChart', 'ActiveDialog', 'ActiveEncryptionSession', 'ActiveMenuBar', 'ActivePrinter', 'ActiveProtectedViewWindow', 'ActiveSheet', 'ActiveWindow', 'ActiveWorkbook', 'AddChartAutoFormat', 'AddCustomList', 'AddIns', 'AddIns2', 'AlertBeforeOverwriting', 'AltStartupPath', 'AlwaysUseClearType', 'AnswerWizard', 'Application', 'ArbitraryXMLSupportAvailable', 'AskToUpdateLinks', 'Assistance', 'Assistant', 'AutoCorrect', 'AutoFormatAsYouTypeReplaceHyperlinks', 'AutoPercentEntry', 'AutoRecover', 'AutomationSecurity', 'Build', 'CLSID', 'COMAddIns', 'CSVDisplayNumberConversionWarning', 'CSVKeepColumnAsTextIfMultipleEntriesAreText', 'Calculate', 'CalculateBeforeSave', 'CalculateFull', 'CalculateFullRebuild', 'CalculateUntilAsyncQueriesDone', 'Calculation', 'CalculationInterruptKey', 'CalculationState', 'CalculationVersion', 'Caller', 'CanPlaySounds', 'CanRecordSounds', 'Caption', 'CellDragAndDrop', 'Cells', 'CentimetersToPoints', 'ChartDataPointTrack', 'Charts', 'CheckAbort', 'CheckSpelling', 'ClipboardFormats', 'ClusterConnector', 'ColorButtons', 'Columns', 'CommandBars', 'CommandUnderlines', 'ConstrainNumeric', 'ControlCharacters', 'ConvertFormula', 'ConvertNumbersWithECharacter', 'CopyObjectsWithCells', 'Creator', 'Cursor', 'CursorMovement', 'CustomListCount', 'CutCopyMode', 'DDEAppReturnCode', 'DDEExecute', 'DDEInitiate', 'DDEPoke', 'DDERequest', 'DDETerminate', 'DataEntryMode', 'DataPrivacyOptions', 'DecimalSeparator', 'DefaultFilePath', 'DefaultPivotTableLayoutOptions', 'DefaultSaveFormat', 'DefaultSheetDirection', 'DefaultWebOptions', 'DeferAsyncQueries', 'DeleteChartAutoFormat', 'DeleteCustomList', 'DialogSheets', 'Dialogs', 'DisplayAlerts', 'DisplayClipboardWindow', 'DisplayCommentIndicator', 'DisplayDocumentActionTaskPane', 'DisplayDocumentInformationPanel', 'DisplayExcel4Menus', 'DisplayFormulaAutoComplete', 'DisplayFormulaBar', 'DisplayFullScreen', 'DisplayFunctionToolTips', 'DisplayInfoWindow', 'DisplayInsertOptions', 'DisplayNoteIndicator', 'DisplayPasteOptions', 'DisplayRecentFiles', 'DisplayScrollBars', 'DisplayStatusBar', 'DisplayXMLSourcePane', 'DoubleClick', 'Dummy1', 'Dummy10', 'Dummy101', 'Dummy11', 'Dummy12', 'Dummy13', 'Dummy14', 'Dummy2', 'Dummy20', 'Dummy22', 'Dummy23', 'Dummy3', 'Dummy4', 'Dummy5', 'Dummy6', 'Dummy7', 'Dummy8', 'Dummy9', 'EditDirectlyInCell', 'EnableAnimations', 'EnableAutoComplete', 'EnableCancelKey', 'EnableCheckFileExtensions', 'EnableEvents', 'EnableLargeOperationAlert', 'EnableLivePreview', 'EnableMacroAnimations', 'EnableSound', 'EnableTipWizard', 'ErrorCheckingOptions', 'Evaluate', 'Excel4IntlMacroSheets', 'Excel4MacroSheets', 'ExecuteExcel4Macro', 'ExtendList', 'FeatureInstall', 'FileConverters', 'FileDialog', 'FileExportConverters', 'FileFind', 'FileSearch', 'FileValidation', 'FileValidationPivot', 'FindFile', 'FindFormat', 'FixedDecimal', 'FixedDecimalPlaces', 'FlashFill', 'FlashFillMode', 'FormatStaleValues', 'FormulaBarHeight', 'GenerateGetPivotData', 'GenerateTableRefs', 'GetCaller', 'GetClipboardFormats', 'GetCustomListContents', 'GetCustomListNum', 'GetFileConverters', 'GetInternational', 'GetOpenFilename', 'GetPhonetic', 'GetPreviousSelections', 'GetRegisteredFunctions', 'GetSaveAsFilename', 'Goto', 'Height', 'Help', 'HighQualityModeForGraphics', 'Hinstance', 'HinstancePtr', 'Hwnd', 'IgnoreRemoteRequests', 'InchesToPoints', 'InputBox', 'Interactive', 'International', 'Intersect', 'IsSandboxed', 'Iteration', 'LanguageSettings', 'LargeButtons', 'LargeOperationCellThousandCount', 'Left', 'LibraryPath', 'MacroOptions', 'MailLogoff', 'MailLogon', 'MailSession', 'MailSystem', 'MapPaperSize', 'MathCoprocessorAvailable', 'MaxChange', 'MaxIterations', 'MeasurementUnit', 'MemoryFree', 'MemoryTotal', 'MemoryUsed', 'MenuBars', 'MergeInstances', 'Modules', 'MouseAvailable', 'MoveAfterReturn', 'MoveAfterReturnDirection', 'MultiThreadedCalculation', 'Name', 'Names', 'NetworkTemplatesPath', 'NewWorkbook', 'NextLetter', 'ODBCErrors', 'ODBCTimeout', 'OLEDBErrors', 'OnCalculate', 'OnData', 'OnDoubleClick', 'OnEntry', 'OnKey', 'OnRepeat', 'OnSheetActivate', 'OnSheetDeactivate', 'OnTime', 'OnUndo', 'OnWindow', 'OperatingSystem', 'OrganizationName', 'Parent', 'Path', 'PathSeparator', 'PivotTableSelection', 'PreviousSelections', 'PrintCommunication', 'ProductCode', 'PromptForSummaryInfo', 'ProtectedViewWindows', 'QuickAnalysis', 'Quit', 'Quitting', 'RTD', 'Range', 'Ready', 'RecentFiles', 'RecordMacro', 'RecordRelative', 'ReferenceStyle', 'RegisterXLL', 'RegisteredFunctions', 'Repeat', 'ReplaceFormat', 'ResetTipWizard', 'RollZoom', 'Rows', 'Run', 'Save', 'SaveISO8601Dates', 'SaveWorkspace', 'ScreenUpdating', 'Selection', 'SendKeys', 'SensitivityLabelPolicy', 'SetDefaultChart', 'SharePointVersion', 'Sheets', 'SheetsInNewWorkbook', 'ShortcutMenus', 'ShowChartTipNames', 'ShowChartTipValues', 'ShowConvertToDataType', 'ShowDevTools', 'ShowMenuFloaties', 'ShowQuickAnalysis', 'ShowSelectionFloaties', 'ShowStartupDialog', 'ShowToolTips', 'ShowWindowsInTaskbar', 'SmartArtColors', 'SmartArtLayouts', 'SmartArtQuickStyles', 'SmartTagRecognizers', 'Speech', 'SpellingOptions', 'StandardFont', 'StandardFontSize', 'StartupPath', 'StatusBar', 'Support', 'TemplatesPath', 'ThisCell', 'ThisWorkbook', 'ThousandsSeparator', 'Toolbars', 'Top', 'TransitionMenuKey', 'TransitionMenuKeyAction', 'TransitionNavigKeys', 'TruncateLargeNumbers', 'TruncateLeadingZeros', 'UILanguage', 'Undo', 'Union', 'UsableHeight', 'UsableWidth', 'UseClusterConnector', 'UseSystemSeparators', 'UsedObjects', 'UserControl', 'UserLibraryPath', 'UserName', 'VBE', 'Value', 'Version', 'Visible', 'Volatile', 'Wait', 'WarnOnFunctionNameConflict', 'Watches', 'Width', 'WindowState', 'Windows', 'WindowsForPens', 'Workbooks', 'WorksheetFunction', 'Worksheets', '_ApplyTypes_', '_Default', '_Evaluate', '_FindFile', '_MacroOptions', '_Run2', '_WSFunction', '_Wait', '__call__', '__class__', '__delattr__', '__dict__', '__dir__', '__doc__', '__eq__', '__format__', '__ge__', '__getattr__', '__getattribute__', '__getstate__', '__gt__', '__hash__', '__init__', '__init_subclass__', '__int__', '__iter__', '__le__', '__lt__', '__module__', '__ne__', '__new__', '__reduce__', '__reduce_ex__', '__repr__', '__setattr__', '__sizeof__', '__str__', '__subclasshook__', '__weakref__', '_get_good_object_', '_get_good_single_object_', '_oleobj_', '_prop_map_get_', '_prop_map_put_', 'coclass_clsid']\n"
     ]
    }
   ],
   "source": [
    "print(dir(xl))"
   ]
  },
  {
   "cell_type": "code",
   "execution_count": 17,
   "metadata": {},
   "outputs": [
    {
     "name": "stdout",
     "output_type": "stream",
     "text": [
      "{'_oleobj_': <PyIDispatch at 0x00000236D658F520 with obj at 0x00000236D3EDE868>}\n"
     ]
    }
   ],
   "source": [
    "print(vars(xl))"
   ]
  },
  {
   "cell_type": "code",
   "execution_count": 35,
   "metadata": {},
   "outputs": [
    {
     "name": "stdout",
     "output_type": "stream",
     "text": [
      "ANALYS32.XLL\n",
      "ATPVBAEN.XLAM\n",
      "EUROTOOL.XLAM\n",
      "SOLVER.XLAM\n"
     ]
    }
   ],
   "source": [
    "for addin in xl.AddIns:\n",
    "   #  print(dir(addin))\n",
    "    print(addin.Name)"
   ]
  },
  {
   "cell_type": "code",
   "execution_count": 44,
   "metadata": {},
   "outputs": [
    {
     "name": "stdout",
     "output_type": "stream",
     "text": [
      "{'_oleobj_': <PyIDispatch at 0x00000236D3D204D0 with obj at 0x00000236D3EDD0E8>, '_username_': 'COMAddIns', '_olerepr_': <win32com.client.build.LazyDispatchItem object at 0x00000236D4F24190>, '_mapCachedItems_': {}, '_builtMethods_': {}, '_enum_': None, '_unicode_to_string_': None, '_lazydata_': (<PyITypeInfo at 0x00000236D3D20530 with obj at 0x00000236D3EDD1E8>, <PyITypeComp at 0x00000236D3D20410 with obj at 0x00000236D3EDD468>)}\n",
      "Microsoft Power Map for Excel\n",
      "None\n",
      "Microsoft Data Streamer for Excel\n",
      "None\n",
      "Inquire\n",
      "None\n",
      "Microsoft Power Pivot for Excel\n",
      "None\n",
      "PDF-XChange Standard Office Plugin\n",
      "<COMObject <unknown>>\n"
     ]
    }
   ],
   "source": [
    "print(vars(xl.COMAddIns))\n",
    "for addin in xl.COMAddIns:\n",
    "   #  print(dir(addin))\n",
    "    print(addin.description)\n",
    "    print(addin.Object)"
   ]
  },
  {
   "cell_type": "code",
   "execution_count": null,
   "metadata": {},
   "outputs": [],
   "source": []
  }
 ],
 "metadata": {
  "kernelspec": {
   "display_name": "data",
   "language": "python",
   "name": "python3"
  },
  "language_info": {
   "codemirror_mode": {
    "name": "ipython",
    "version": 3
   },
   "file_extension": ".py",
   "mimetype": "text/x-python",
   "name": "python",
   "nbconvert_exporter": "python",
   "pygments_lexer": "ipython3",
   "version": "3.11.6"
  }
 },
 "nbformat": 4,
 "nbformat_minor": 2
}
